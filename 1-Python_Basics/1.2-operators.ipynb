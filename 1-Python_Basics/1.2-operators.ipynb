{
 "cells": [
  {
   "cell_type": "code",
   "execution_count": 4,
   "metadata": {},
   "outputs": [
    {
     "name": "stdout",
     "output_type": "stream",
     "text": [
      "Addition: 5\n",
      "Subtraction: -1\n",
      "Multiplication: 6\n",
      "Division: 0.6666666666666666\n",
      "Floor division: 0\n",
      "Modulus: 2\n",
      "Exponentiation: 8\n",
      "Negation: -2\n",
      "Absolute value: 2\n"
     ]
    }
   ],
   "source": [
    "## Arithmetic operations\n",
    "# Addition\n",
    "print(\"Addition: \" + str(2 + 3))\n",
    "# Subtraction\n",
    "print(\"Subtraction: \" + str(2 - 3))\n",
    "# Multiplication\n",
    "print(\"Multiplication: \" + str(2 * 3))\n",
    "# Division\n",
    "print(\"Division: \" + str(2 / 3))\n",
    "# Floor division\n",
    "print(\"Floor division: \" + str(2 // 3))\n",
    "# Modulus\n",
    "print(\"Modulus: \" + str(2 % 3))\n",
    "# Exponentiation\n",
    "print(\"Exponentiation: \" + str(2 ** 3))\n",
    "# Negation\n",
    "print(\"Negation: \" + str(-2))\n",
    "# Absolute value\n",
    "print(\"Absolute value: \" + str(abs(-2)))"
   ]
  },
  {
   "cell_type": "code",
   "execution_count": 9,
   "metadata": {},
   "outputs": [
    {
     "name": "stdout",
     "output_type": "stream",
     "text": [
      "BambaLamba\n",
      "BambaLambaBambaLambaBambaLamba\n"
     ]
    },
    {
     "data": {
      "text/plain": [
       "False"
      ]
     },
     "execution_count": 9,
     "metadata": {},
     "output_type": "execute_result"
    }
   ],
   "source": [
    "str1 = \"Bamba\"\n",
    "str2 = \"Lamba\"\n",
    "\n",
    "str1 += str2\n",
    "print(str1)\n",
    "str1 *= 3\n",
    "print(str1)\n",
    "str1 == str2"
   ]
  },
  {
   "cell_type": "code",
   "execution_count": 10,
   "metadata": {},
   "outputs": [
    {
     "data": {
      "text/plain": [
       "True"
      ]
     },
     "execution_count": 10,
     "metadata": {},
     "output_type": "execute_result"
    }
   ],
   "source": [
    "str3=\"Krish\"\n",
    "str4=\"krish\" #case sensitive comparison\n",
    "\n",
    "str3!=str4"
   ]
  },
  {
   "cell_type": "code",
   "execution_count": 11,
   "metadata": {},
   "outputs": [
    {
     "name": "stdout",
     "output_type": "stream",
     "text": [
      "True\n"
     ]
    }
   ],
   "source": [
    "## And ,Not,OR\n",
    "X=True\n",
    "Y=True\n",
    "\n",
    "result =X and Y\n",
    "print(result)"
   ]
  },
  {
   "cell_type": "code",
   "execution_count": 12,
   "metadata": {},
   "outputs": [
    {
     "name": "stdout",
     "output_type": "stream",
     "text": [
      "False\n"
     ]
    }
   ],
   "source": [
    "X=False\n",
    "Y=True\n",
    "\n",
    "result =X and Y\n",
    "print(result)"
   ]
  },
  {
   "cell_type": "code",
   "execution_count": 13,
   "metadata": {},
   "outputs": [
    {
     "name": "stdout",
     "output_type": "stream",
     "text": [
      "False\n"
     ]
    }
   ],
   "source": [
    "## OR\n",
    "X=False\n",
    "Y=False\n",
    "\n",
    "result =X or Y\n",
    "print(result)"
   ]
  },
  {
   "cell_type": "code",
   "execution_count": 14,
   "metadata": {},
   "outputs": [
    {
     "data": {
      "text/plain": [
       "True"
      ]
     },
     "execution_count": 14,
     "metadata": {},
     "output_type": "execute_result"
    }
   ],
   "source": [
    "# Not operator\n",
    "X=False\n",
    "not X"
   ]
  },
  {
   "cell_type": "code",
   "execution_count": null,
   "metadata": {},
   "outputs": [],
   "source": []
  }
 ],
 "metadata": {
  "kernelspec": {
   "display_name": "Python 3",
   "language": "python",
   "name": "python3"
  },
  "language_info": {
   "codemirror_mode": {
    "name": "ipython",
    "version": 3
   },
   "file_extension": ".py",
   "mimetype": "text/x-python",
   "name": "python",
   "nbconvert_exporter": "python",
   "pygments_lexer": "ipython3",
   "version": "3.12.0"
  }
 },
 "nbformat": 4,
 "nbformat_minor": 2
}
