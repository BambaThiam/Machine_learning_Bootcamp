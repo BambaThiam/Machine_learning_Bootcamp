{
 "cells": [
  {
   "cell_type": "markdown",
   "metadata": {},
   "source": [
    "Understanding variable types is crucial in programming as it determines how data is stored and manipulated in a program. In Python, variables can hold different types of data such as numbers, strings, booleans, and more. Let's explore some common variable types in Python:\n",
    "\n",
    "1. Integer (`int`): This type represents whole numbers without any decimal points. For example, `x = 5` assigns the value 5 to the variable `x`.\n",
    "\n",
    "2. Float (`float`): Floats are used to represent numbers with decimal points. For example, `y = 3.14` assigns the value 3.14 to the variable `y`.\n",
    "\n",
    "3. String (`str`): Strings are used to represent text or characters. They are enclosed in either single quotes (`'`) or double quotes (`\"`). For example, `name = \"John\"` assigns the string \"John\" to the variable `name`.\n",
    "\n",
    "4. Boolean (`bool`): Booleans represent either `True` or `False` values. They are often used in conditional statements and logical operations. For example, `is_valid = True` assigns the value `True` to the variable `is_valid`.\n",
    "\n",
    "5. List (`list`): Lists are used to store multiple values in a single variable. They are ordered and mutable, meaning you can change their elements. For example, `numbers = [1, 2, 3, 4]` assigns a list of numbers to the variable `numbers`.\n",
    "\n",
    "6. Tuple (`tuple`): Tuples are similar to lists, but they are immutable, meaning their elements cannot be changed once defined. They are often used to store related pieces of data. For example, `coordinates = (10, 20)` assigns a tuple of coordinates to the variable `coordinates`.\n",
    "\n",
    "7. Dictionary (`dict`): Dictionaries are used to store key-value pairs. Each value is associated with a unique key, allowing for efficient retrieval of data. For example, `person = {\"name\": \"John\", \"age\": 25}` assigns a dictionary representing a person's information to the variable `person`.\n",
    "\n",
    "These are just a few examples of variable types in Python. Understanding and correctly using variable types is essential for writing effective and bug-free code."
   ]
  },
  {
   "cell_type": "code",
   "execution_count": 2,
   "metadata": {},
   "outputs": [
    {
     "name": "stdout",
     "output_type": "stream",
     "text": [
      "John is 21 years old\n"
     ]
    }
   ],
   "source": [
    "#Understanding variables types\n",
    "age = 21\n",
    "name = \"John\"\n",
    "print(name + \" is \" + str(age) + \" years old\")\n",
    "# print(name + \" is \" + age + \" years old\") # This will throw an error"
   ]
  },
  {
   "cell_type": "code",
   "execution_count": 3,
   "metadata": {},
   "outputs": [
    {
     "name": "stdout",
     "output_type": "stream",
     "text": [
      "<class 'int'>\n"
     ]
    }
   ],
   "source": [
    "age = \"25\"\n",
    "print(type(int(age))) "
   ]
  },
  {
   "cell_type": "code",
   "execution_count": 4,
   "metadata": {},
   "outputs": [
    {
     "data": {
      "text/plain": [
       "float"
      ]
     },
     "execution_count": 4,
     "metadata": {},
     "output_type": "execute_result"
    }
   ],
   "source": [
    "height = 5.6\n",
    "type(height)\n"
   ]
  },
  {
   "cell_type": "markdown",
   "metadata": {},
   "source": []
  },
  {
   "cell_type": "code",
   "execution_count": 5,
   "metadata": {},
   "outputs": [
    {
     "data": {
      "text/plain": [
       "5.0"
      ]
     },
     "execution_count": 5,
     "metadata": {},
     "output_type": "execute_result"
    }
   ],
   "source": [
    "float(int(height))"
   ]
  },
  {
   "cell_type": "code",
   "execution_count": 6,
   "metadata": {},
   "outputs": [
    {
     "name": "stdout",
     "output_type": "stream",
     "text": [
      "10 <class 'int'>\n",
      "Hello <class 'str'>\n",
      "3.14 <class 'float'>\n"
     ]
    }
   ],
   "source": [
    "## Dynamic Typing\n",
    "## Python allows the type of a vraible to change as the program executes\n",
    "var=10 #int\n",
    "print(var,type(var))\n",
    "\n",
    "var=\"Hello\"\n",
    "print(var,type(var))\n",
    "\n",
    "var=3.14\n",
    "print(var,type(var))"
   ]
  },
  {
   "cell_type": "code",
   "execution_count": 7,
   "metadata": {},
   "outputs": [
    {
     "name": "stdout",
     "output_type": "stream",
     "text": [
      "Sum:  71.0\n",
      "Difference:  -25.0\n",
      "Product:  1104.0\n",
      "Quotient:  0.4791666666666667\n",
      "Quotient:  0.48\n"
     ]
    }
   ],
   "source": [
    "#Simple calculator\n",
    "num1 = float(input(\"Enter first number: \"))\n",
    "num2 = float(input(\"Enter second number: \"))\n",
    "\n",
    "sum = num1 + num2\n",
    "difference = num1 - num2\n",
    "product = num1 * num2\n",
    "quotient = num1 / num2\n",
    "\n",
    "print(\"Sum: \", sum)\n",
    "print(\"Difference: \", difference)\n",
    "print(\"Product: \", product)\n",
    "print(\"Quotient: \", quotient)\n",
    "print(\"Quotient: \", round(quotient, 2))\n",
    "\n"
   ]
  },
  {
   "cell_type": "code",
   "execution_count": null,
   "metadata": {},
   "outputs": [],
   "source": []
  }
 ],
 "metadata": {
  "kernelspec": {
   "display_name": "Python 3",
   "language": "python",
   "name": "python3"
  },
  "language_info": {
   "codemirror_mode": {
    "name": "ipython",
    "version": 3
   },
   "file_extension": ".py",
   "mimetype": "text/x-python",
   "name": "python",
   "nbconvert_exporter": "python",
   "pygments_lexer": "ipython3",
   "version": "3.12.0"
  }
 },
 "nbformat": 4,
 "nbformat_minor": 2
}
