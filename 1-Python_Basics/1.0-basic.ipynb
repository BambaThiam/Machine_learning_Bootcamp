{
 "cells": [
  {
   "cell_type": "code",
   "execution_count": 3,
   "metadata": {},
   "outputs": [
    {
     "name": "stdout",
     "output_type": "stream",
     "text": [
      "Bamba is 23 years old\n",
      "Marame is 25 years old\n",
      "Aminata is 21 years old\n"
     ]
    }
   ],
   "source": [
    "## zip function\n",
    "names = [\"Bamba\", \"Marame\", \"Aminata\"]\n",
    "ages = [23, 25, 21]\n",
    "\n",
    "for name, age in zip(names, ages):\n",
    "    print(f\"{name} is {age} years old\")\n"
   ]
  },
  {
   "cell_type": "code",
   "execution_count": 7,
   "metadata": {},
   "outputs": [
    {
     "name": "stdout",
     "output_type": "stream",
     "text": [
      "<class 'zip'>\n",
      "<class 'str'>\n",
      "<class 'int'>\n"
     ]
    }
   ],
   "source": [
    "print(type(zip(names, ages)))\n",
    "print(type(name))\n",
    "print(type(age))"
   ]
  },
  {
   "cell_type": "code",
   "execution_count": 8,
   "metadata": {},
   "outputs": [
    {
     "name": "stdout",
     "output_type": "stream",
     "text": [
      "43\n"
     ]
    }
   ],
   "source": [
    "## Line Continuation\n",
    "##Use a backslash (\\) to continue a statement to the next line\n",
    "\n",
    "total=1+2+3+4+5+6+7+\\\n",
    "4+5+6\n",
    "\n",
    "print(total)"
   ]
  },
  {
   "cell_type": "code",
   "execution_count": 9,
   "metadata": {},
   "outputs": [
    {
     "name": "stdout",
     "output_type": "stream",
     "text": [
      "This is True\n",
      "This is also True\n"
     ]
    }
   ],
   "source": [
    "## Code example of indentation\n",
    "if True:\n",
    "    print(\"This is True\")\n",
    "    if False:\n",
    "        print(\"This is False\")\n",
    "    print(\"This is also True\")"
   ]
  },
  {
   "cell_type": "code",
   "execution_count": null,
   "metadata": {},
   "outputs": [],
   "source": []
  }
 ],
 "metadata": {
  "kernelspec": {
   "display_name": "Python 3",
   "language": "python",
   "name": "python3"
  },
  "language_info": {
   "codemirror_mode": {
    "name": "ipython",
    "version": 3
   },
   "file_extension": ".py",
   "mimetype": "text/x-python",
   "name": "python",
   "nbconvert_exporter": "python",
   "pygments_lexer": "ipython3",
   "version": "3.12.0"
  }
 },
 "nbformat": 4,
 "nbformat_minor": 2
}
