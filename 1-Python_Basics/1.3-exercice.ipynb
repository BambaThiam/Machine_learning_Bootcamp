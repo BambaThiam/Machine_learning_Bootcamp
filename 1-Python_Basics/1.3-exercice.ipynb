{
 "cells": [
  {
   "cell_type": "markdown",
   "metadata": {},
   "source": [
    "# Lesson 1.2: Python Basics\n",
    "## Topics Covered:\n",
    "- Syntax and Semantics\n",
    "- Variables and Data Types\n",
    "- Basic Operators (Arithmetic, Comparison, Logical)\n"
   ]
  },
  {
   "cell_type": "markdown",
   "metadata": {},
   "source": [
    "## 1. Syntax and Semantics\n",
    "\n",
    "**Question 1:** Write a Python program to print \"Hello, World!\"."
   ]
  },
  {
   "cell_type": "code",
   "execution_count": 1,
   "metadata": {},
   "outputs": [
    {
     "name": "stdout",
     "output_type": "stream",
     "text": [
      "Hello, World!\n"
     ]
    }
   ],
   "source": [
    "# Your code here\n",
    "print(\"Hello, World!\")"
   ]
  },
  {
   "cell_type": "markdown",
   "metadata": {},
   "source": [
    "**Question 2:** Write a Python program that takes a user input and prints it."
   ]
  },
  {
   "cell_type": "code",
   "execution_count": 3,
   "metadata": {},
   "outputs": [
    {
     "name": "stdout",
     "output_type": "stream",
     "text": [
      "You entered:  Bamba\n"
     ]
    }
   ],
   "source": [
    "# Your code here\n",
    "\n",
    "user_input = input(\"Enter a number: \")\n",
    "print(\"You entered: \", user_input)\n"
   ]
  },
  {
   "cell_type": "markdown",
   "metadata": {},
   "source": [
    "**Question 3:** Write a Python program to check if a number is positive, negative, or zero."
   ]
  },
  {
   "cell_type": "code",
   "execution_count": 9,
   "metadata": {},
   "outputs": [
    {
     "name": "stdout",
     "output_type": "stream",
     "text": [
      "You entered:  12\n",
      "This number is even.\n",
      "This number is positive.\n"
     ]
    }
   ],
   "source": [
    "# Your code here\n",
    "user_input = input(\"Enter a number: \")\n",
    "if user_input.isdigit():\n",
    "    print(\"You entered: \", user_input)\n",
    "    if int(user_input) % 2 == 0:\n",
    "        print(\"This number is even.\")\n",
    "    if int(user_input) % 2 != 0:\n",
    "        print(\"This number is odd.\")\n",
    "    if int(user_input) >= 0:\n",
    "        print(\"This number is positive.\")\n",
    "else:\n",
    "    print(\"You did not enter a number.\")\n",
    "\n"
   ]
  },
  {
   "cell_type": "markdown",
   "metadata": {},
   "source": [
    "**Question 4:** Write a Python program to find the largest of three numbers."
   ]
  },
  {
   "cell_type": "code",
   "execution_count": 12,
   "metadata": {},
   "outputs": [
    {
     "name": "stdout",
     "output_type": "stream",
     "text": [
      "The largest number is:  98\n"
     ]
    }
   ],
   "source": [
    "# Your code here\n",
    "num1 = input(\"Enter a number: \")\n",
    "num2 = input(\"Enter another number: \")\n",
    "num3 = input(\"Enter a third number: \")\n",
    "\n",
    "largest = max(num1, num2, num3)\n",
    "print(\"The largest number is: \", largest)"
   ]
  },
  {
   "cell_type": "markdown",
   "metadata": {},
   "source": [
    "**Question 5:** Write a Python program to calculate the factorial of a number."
   ]
  },
  {
   "cell_type": "code",
   "execution_count": 18,
   "metadata": {},
   "outputs": [
    {
     "name": "stdout",
     "output_type": "stream",
     "text": [
      "The factorial of  15  is  1307674368000\n"
     ]
    }
   ],
   "source": [
    "# Your code here\n",
    "def factorial(n):\n",
    "    if n==0:\n",
    "        return 1\n",
    "    else:\n",
    "        return n * factorial(n-1)\n",
    "\n",
    "num = int(input(\"Enter a number: \"))\n",
    "print(\"The factorial of \", num, \" is \", factorial(num))\n"
   ]
  },
  {
   "cell_type": "markdown",
   "metadata": {},
   "source": [
    "## 2. Variables and Data Types\n",
    "\n",
    "**Question 6:** Create variables of different data types: integer, float, string, and boolean. Print their values and types."
   ]
  },
  {
   "cell_type": "code",
   "execution_count": 19,
   "metadata": {},
   "outputs": [
    {
     "name": "stdout",
     "output_type": "stream",
     "text": [
      "The integer is:  12\n",
      "The floating point number is:  12.0\n",
      "The string is:  12\n",
      "The boolean is:  True\n"
     ]
    }
   ],
   "source": [
    "# Your code \n",
    "integer = 12\n",
    "floating = 12.0\n",
    "string = \"12\"\n",
    "boolean = True\n",
    "print(\"The integer is: \", integer)\n",
    "print(\"The floating point number is: \", floating)\n",
    "print(\"The string is: \", string)\n",
    "print(\"The boolean is: \", boolean)"
   ]
  },
  {
   "cell_type": "markdown",
   "metadata": {},
   "source": [
    "**Question 7:** Write a Python program to swap the values of two variables."
   ]
  },
  {
   "cell_type": "code",
   "execution_count": 20,
   "metadata": {},
   "outputs": [
    {
     "name": "stdout",
     "output_type": "stream",
     "text": [
      "Before swap: a = 5 and b = 3\n",
      "After swap: a = 3 and b = 5\n"
     ]
    }
   ],
   "source": [
    "# Your code here\n",
    "a=5\n",
    "b=3\n",
    "\n",
    "print(\"Before swap: a =\", a, \"and b =\", b)\n",
    "\n",
    "a, b = b, a\n",
    "\n",
    "print(\"After swap: a =\", a, \"and b =\", b)"
   ]
  },
  {
   "cell_type": "markdown",
   "metadata": {},
   "source": [
    "**Question 8:** Write a Python program to convert Celsius to Fahrenheit."
   ]
  },
  {
   "cell_type": "code",
   "execution_count": 21,
   "metadata": {},
   "outputs": [
    {
     "name": "stdout",
     "output_type": "stream",
     "text": [
      "The temperature in Fahrenheit is:  77.0\n"
     ]
    }
   ],
   "source": [
    "# Your code here\n",
    "celsius_number = float(input(\"Enter a temperature in Celsius: \"))\n",
    "\n",
    "fahrenheit_number = (celsius_number * 9/5) + 32\n",
    "\n",
    "print(\"The temperature in Fahrenheit is: \", fahrenheit_number)"
   ]
  },
  {
   "cell_type": "markdown",
   "metadata": {},
   "source": [
    "**Question 9:** Write a Python program to concatenate two strings."
   ]
  },
  {
   "cell_type": "code",
   "execution_count": 22,
   "metadata": {},
   "outputs": [
    {
     "name": "stdout",
     "output_type": "stream",
     "text": [
      "Hello World\n"
     ]
    }
   ],
   "source": [
    "# Your code here\n",
    "str1 = \"Hello\"\n",
    "str2 = \"World\"\n",
    "\n",
    "print(str1 + \" \" + str2)"
   ]
  },
  {
   "cell_type": "markdown",
   "metadata": {},
   "source": [
    "**Question 10:** Write a Python program to check if a variable is of a specific data type."
   ]
  },
  {
   "cell_type": "code",
   "execution_count": 23,
   "metadata": {},
   "outputs": [
    {
     "name": "stdout",
     "output_type": "stream",
     "text": [
      "This is a string.\n"
     ]
    }
   ],
   "source": [
    "# Your code here\n",
    "\n",
    "var = \"Hello, World!\"\n",
    "if type(var) == str:\n",
    "    print(\"This is a string.\")\n",
    "else:\n",
    "    print(\"This is not a string.\")"
   ]
  },
  {
   "cell_type": "markdown",
   "metadata": {},
   "source": [
    "## 3. Basic Operators (Arithmetic, Comparison, Logical)\n",
    "\n",
    "**Question 11:** Write a Python program to perform arithmetic operations: addition, subtraction, multiplication, and division."
   ]
  },
  {
   "cell_type": "code",
   "execution_count": 26,
   "metadata": {},
   "outputs": [
    {
     "name": "stdout",
     "output_type": "stream",
     "text": [
      "Addition: 8.0\n",
      "Subtraction: -2.0\n",
      "Multiplication: 15.0\n",
      "Division: 0.6\n"
     ]
    }
   ],
   "source": [
    "# Your code here\n",
    "# Get two numbers from the user\n",
    "num1 = float(input(\"Enter first number: \"))\n",
    "num2 = float(input(\"Enter second number: \"))\n",
    "\n",
    "# Perform arithmetic operations\n",
    "add = num1 + num2\n",
    "subtract = num1 - num2\n",
    "multiply = num1 * num2\n",
    "\n",
    "# Check if the second number is zero before performing division\n",
    "if num2 != 0:\n",
    "    divide = num1 / num2\n",
    "else:\n",
    "    divide = \"Undefined (can't divide by zero)\"\n",
    "\n",
    "# Print the results\n",
    "print(\"Addition:\", add)\n",
    "print(\"Subtraction:\", subtract)\n",
    "print(\"Multiplication:\", multiply)\n",
    "print(\"Division:\", divide)"
   ]
  },
  {
   "cell_type": "markdown",
   "metadata": {},
   "source": [
    "**Question 12:** Write a Python program to demonstrate comparison operators: equal to, not equal to, greater than, less than."
   ]
  },
  {
   "cell_type": "code",
   "execution_count": 27,
   "metadata": {},
   "outputs": [
    {
     "name": "stdout",
     "output_type": "stream",
     "text": [
      "a == b: False\n",
      "a != b: True\n",
      "a > b: False\n",
      "a < b: True\n"
     ]
    }
   ],
   "source": [
    "# Your code here\n",
    "# Initialize two variables\n",
    "a = 10\n",
    "b = 20\n",
    "\n",
    "# Demonstrate comparison operators\n",
    "print(\"a == b:\", a == b)  # Equal to\n",
    "print(\"a != b:\", a != b)  # Not equal to\n",
    "print(\"a > b:\", a > b)    # Greater than\n",
    "print(\"a < b:\", a < b)    # Less than"
   ]
  },
  {
   "cell_type": "markdown",
   "metadata": {},
   "source": [
    "**Question 13:** Write a Python program to demonstrate logical operators: and, or, not."
   ]
  },
  {
   "cell_type": "code",
   "execution_count": 29,
   "metadata": {},
   "outputs": [
    {
     "name": "stdout",
     "output_type": "stream",
     "text": [
      "a and b: False\n",
      "a or b: True\n",
      "not a: False\n"
     ]
    }
   ],
   "source": [
    "# Your code here\n",
    "# Initialize two boolean variables\n",
    "a = True\n",
    "b = False\n",
    "\n",
    "# Demonstrate logical operators\n",
    "print(\"a and b:\", a and b)  # Logical AND\n",
    "print(\"a or b:\", a or b)    # Logical OR\n",
    "print(\"not a:\", not a)      # Logical NOT"
   ]
  },
  {
   "cell_type": "markdown",
   "metadata": {},
   "source": [
    "**Question 14:** Write a Python program to calculate the square of a number."
   ]
  },
  {
   "cell_type": "code",
   "execution_count": 30,
   "metadata": {},
   "outputs": [
    {
     "name": "stdout",
     "output_type": "stream",
     "text": [
      "The square of 10 is 100\n"
     ]
    }
   ],
   "source": [
    "# Your code here\n",
    "num1 = 10\n",
    "num2 = 2\n",
    "\n",
    "square1 = num1 ** num2\n",
    "\n",
    "print(\"The square of\", num1, \"is\", square1)"
   ]
  },
  {
   "cell_type": "markdown",
   "metadata": {},
   "source": [
    "**Question 15:** Write a Python program to check if a number is even or odd."
   ]
  },
  {
   "cell_type": "code",
   "execution_count": 31,
   "metadata": {},
   "outputs": [
    {
     "name": "stdout",
     "output_type": "stream",
     "text": [
      "3 is odd.\n"
     ]
    }
   ],
   "source": [
    "# Your code here\n",
    "# Get a number from the user\n",
    "num = int(input(\"Enter a number: \"))\n",
    "\n",
    "# Check if the number is even or odd\n",
    "if num % 2 == 0:\n",
    "    print(num, \"is even.\")\n",
    "else:\n",
    "    print(num, \"is odd.\")"
   ]
  },
  {
   "cell_type": "markdown",
   "metadata": {},
   "source": [
    "**Question 16:** Write a Python program to find the sum of the first n natural numbers."
   ]
  },
  {
   "cell_type": "code",
   "execution_count": 34,
   "metadata": {},
   "outputs": [
    {
     "name": "stdout",
     "output_type": "stream",
     "text": [
      "The sum of the first 5 natural numbers is 15\n"
     ]
    }
   ],
   "source": [
    "# Your code here\n",
    "# Get the number of natural numbers to sum from the user\n",
    "n = int(input(\"Enter the number of natural numbers to sum: \"))\n",
    "\n",
    "# Calculate the sum of the first n natural numbers\n",
    "sum = n * (n+1) // 2\n",
    "\n",
    "print(\"The sum of the first\", n, \"natural numbers is\", sum)"
   ]
  },
  {
   "cell_type": "markdown",
   "metadata": {},
   "source": [
    "**Question 17:** Write a Python program to check if a year is a leap year."
   ]
  },
  {
   "cell_type": "code",
   "execution_count": 36,
   "metadata": {},
   "outputs": [
    {
     "name": "stdout",
     "output_type": "stream",
     "text": [
      "2024 est une année bissextile.\n"
     ]
    }
   ],
   "source": [
    "# Your code here\n",
    "# Obtenez une année de l'utilisateur\n",
    "annee = int(input(\"Entrez une année: \"))\n",
    "\n",
    "# Vérifiez si l'année est une année bissextile\n",
    "if (annee % 4 == 0 and annee % 100 != 0) or (annee % 400 == 0):\n",
    "    print(annee, \"est une année bissextile.\")\n",
    "else:\n",
    "    print(annee, \"n'est pas une année bissextile.\")"
   ]
  },
  {
   "cell_type": "markdown",
   "metadata": {},
   "source": [
    "**Question 18:** Write a Python program to reverse a string."
   ]
  },
  {
   "cell_type": "code",
   "execution_count": 37,
   "metadata": {},
   "outputs": [
    {
     "name": "stdout",
     "output_type": "stream",
     "text": [
      "The reversed string is tseT\n"
     ]
    }
   ],
   "source": [
    "# Your code here\n",
    "# Get a string from the user\n",
    "s = input(\"Enter a string: \")\n",
    "\n",
    "# Reverse the string\n",
    "reversed_s = s[::-1]\n",
    "\n",
    "print(\"The reversed string is\", reversed_s)"
   ]
  },
  {
   "cell_type": "markdown",
   "metadata": {},
   "source": [
    "**Question 19:** Write a Python program to check if a string is a palindrome."
   ]
  },
  {
   "cell_type": "code",
   "execution_count": 40,
   "metadata": {},
   "outputs": [
    {
     "name": "stdout",
     "output_type": "stream",
     "text": [
      "radar est un palindrome.\n"
     ]
    }
   ],
   "source": [
    "# Your code here\n",
    "# Obtenez une chaîne de l'utilisateur\n",
    "chaine = input(\"Entrez une chaîne: \")\n",
    "\n",
    "# Enlevez les espaces de la chaîne\n",
    "chaine = chaine.replace(\" \", \"\")\n",
    "\n",
    "# Vérifiez si la chaîne est un palindrome\n",
    "if chaine == chaine[::-1]:\n",
    "    print(chaine, \"est un palindrome.\")\n",
    "else:\n",
    "    print(chaine, \"n'est pas un palindrome.\")\n",
    "    "
   ]
  },
  {
   "cell_type": "markdown",
   "metadata": {},
   "source": [
    "**Question 20:** Write a Python program to sort a list of numbers in ascending order."
   ]
  },
  {
   "cell_type": "code",
   "execution_count": 41,
   "metadata": {},
   "outputs": [],
   "source": [
    "# Your code here"
   ]
  },
  {
   "cell_type": "code",
   "execution_count": 42,
   "metadata": {},
   "outputs": [
    {
     "name": "stdout",
     "output_type": "stream",
     "text": [
      "Original list: [5, 1, 9, 3, 7]\n",
      "Sorted list: [1, 3, 5, 7, 9]\n"
     ]
    }
   ],
   "source": [
    "# Initialize a list of numbers\n",
    "numbers = [5, 1, 9, 3, 7]\n",
    "\n",
    "print(\"Original list:\", numbers)\n",
    "\n",
    "# Sort the list in ascending order\n",
    "numbers.sort()\n",
    "\n",
    "print(\"Sorted list:\", numbers)"
   ]
  },
  {
   "cell_type": "code",
   "execution_count": null,
   "metadata": {},
   "outputs": [],
   "source": []
  }
 ],
 "metadata": {
  "kernelspec": {
   "display_name": "Python 3",
   "language": "python",
   "name": "python3"
  },
  "language_info": {
   "codemirror_mode": {
    "name": "ipython",
    "version": 3
   },
   "file_extension": ".py",
   "mimetype": "text/x-python",
   "name": "python",
   "nbconvert_exporter": "python",
   "pygments_lexer": "ipython3",
   "version": "3.12.0"
  }
 },
 "nbformat": 4,
 "nbformat_minor": 4
}
