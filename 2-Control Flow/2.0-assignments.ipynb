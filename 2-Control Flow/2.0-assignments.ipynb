{
 "cells": [
  {
   "cell_type": "markdown",
   "metadata": {},
   "source": [
    "# Module 2: Control Flow Assignments\n",
    "## Lesson 2.1: Conditional Statements\n",
    "### Assignment 1: Simple if Statement\n",
    "\n",
    "Write a program that asks the user to input a number and prints whether the number is positive.\n"
   ]
  },
  {
   "cell_type": "code",
   "execution_count": 7,
   "id": "958eb2eb",
   "metadata": {},
   "outputs": [
    {
     "name": "stdout",
     "output_type": "stream",
     "text": [
      "The number is positive and is 5\n"
     ]
    }
   ],
   "source": [
    "numb = int(input(\"Enter a number\"))\n",
    "# if type(numb) == !int:\n",
    "#     print(\"You have to enter a number\")\n",
    "# else:\n",
    "if numb < 0:\n",
    "  print(\"The number must be positive\")\n",
    "else:\n",
    "  print(\"The number is positive and is\", numb)"
   ]
  },
  {
   "cell_type": "markdown",
   "id": "990579fd",
   "metadata": {},
   "source": [
    "\n",
    "### Assignment 2: if-else Statement\n",
    "\n",
    "Write a program that asks the user to input a number and prints whether the number is positive or negative.\n"
   ]
  },
  {
   "cell_type": "code",
   "execution_count": 9,
   "id": "6b1b0bf1",
   "metadata": {},
   "outputs": [
    {
     "name": "stdout",
     "output_type": "stream",
     "text": [
      "This number is positive\n"
     ]
    }
   ],
   "source": [
    "numb = int(input(\"Enter a number\"))\n",
    "if numb < 0:\n",
    "  print(\"This number is négative\")\n",
    "else:\n",
    "  print(\"This number is positive\")"
   ]
  },
  {
   "cell_type": "markdown",
   "id": "28100516",
   "metadata": {},
   "source": [
    "\n",
    "### Assignment 3: if-elif-else Statement\n",
    "\n",
    "Write a program that asks the user to input a number and prints whether the number is positive, negative, or zero.\n"
   ]
  },
  {
   "cell_type": "code",
   "execution_count": 19,
   "id": "4cdbf72c",
   "metadata": {},
   "outputs": [
    {
     "name": "stdout",
     "output_type": "stream",
     "text": [
      "This number is positive\n"
     ]
    }
   ],
   "source": [
    "try:\n",
    "    numb = int(input(\"Enter a number: \"))\n",
    "    if numb < 0:\n",
    "        print(\"This number is negative\")\n",
    "    elif numb == 0:\n",
    "        print(\"This number is zero\")\n",
    "    else:\n",
    "        print(\"This number is positive\")\n",
    "except ValueError:\n",
    "    print(\"Invalid input. Please enter a number.\")"
   ]
  },
  {
   "cell_type": "markdown",
   "id": "fef590d2",
   "metadata": {},
   "source": [
    "\n",
    "### Assignment 4: Nested if Statement\n",
    "\n",
    "Write a program that asks the user to input a number and prints whether the number is positive and even, positive and odd, or negative.\n"
   ]
  },
  {
   "cell_type": "code",
   "execution_count": 24,
   "id": "7e9c706e",
   "metadata": {},
   "outputs": [
    {
     "name": "stdout",
     "output_type": "stream",
     "text": [
      "Invalid input. Please enter a number.\n"
     ]
    }
   ],
   "source": [
    "try:\n",
    "    # Get a number from the user\n",
    "    num = int(input(\"Enter a number: \"))\n",
    "\n",
    "    # Check if the number is positive and even, positive and odd, or negative\n",
    "    if num > 0:\n",
    "        if num % 2 == 0:\n",
    "            print(\"The number is positive and even.\")\n",
    "        else:\n",
    "            print(\"The number is positive and odd.\")\n",
    "    elif num < 0:\n",
    "        print(\"The number is negative.\")\n",
    "    else:\n",
    "        print(\"The number is zero.\")\n",
    "except ValueError:\n",
    "    print(\"Invalid input. Please enter a number.\")"
   ]
  },
  {
   "cell_type": "markdown",
   "id": "83d1a0ab",
   "metadata": {},
   "source": [
    "\n",
    "## Lesson 2.2: Loops\n",
    "### Assignment 5: for Loop\n",
    "\n",
    "Write a program that prints all the numbers from 1 to 10 using a for loop.\n"
   ]
  },
  {
   "cell_type": "code",
   "execution_count": 26,
   "id": "37a1615d",
   "metadata": {},
   "outputs": [
    {
     "name": "stdout",
     "output_type": "stream",
     "text": [
      "1\n",
      "2\n",
      "3\n",
      "4\n",
      "5\n",
      "6\n",
      "7\n",
      "8\n",
      "9\n",
      "10\n"
     ]
    }
   ],
   "source": [
    "for i in range(10):\n",
    "    print(i+1)"
   ]
  },
  {
   "cell_type": "markdown",
   "id": "40a7a8e2",
   "metadata": {},
   "source": [
    "\n",
    "### Assignment 6: while Loop\n",
    "\n",
    "Write a program that prints all the numbers from 1 to 10 using a while loop.\n"
   ]
  },
  {
   "cell_type": "code",
   "execution_count": 28,
   "id": "58ac2fc3",
   "metadata": {},
   "outputs": [
    {
     "name": "stdout",
     "output_type": "stream",
     "text": [
      "1\n",
      "2\n",
      "3\n",
      "4\n",
      "5\n",
      "6\n",
      "7\n",
      "8\n",
      "9\n",
      "10\n"
     ]
    }
   ],
   "source": [
    "i=0\n",
    "while i < 10:\n",
    "    print(i+1)\n",
    "    i += 1"
   ]
  },
  {
   "cell_type": "markdown",
   "id": "b8b3ccf8",
   "metadata": {},
   "source": [
    "\n",
    "### Assignment 7: Nested Loops\n",
    "\n",
    "Write a program that prints a 5x5 grid of asterisks (*) using nested loops.\n"
   ]
  },
  {
   "cell_type": "code",
   "execution_count": 38,
   "id": "db247828",
   "metadata": {},
   "outputs": [
    {
     "name": "stdout",
     "output_type": "stream",
     "text": [
      "* | * | * | * | * | \n",
      "* | * | * | * | * | \n",
      "* | * | * | * | * | \n",
      "* | * | * | * | * | \n",
      "* | * | * | * | * | \n"
     ]
    }
   ],
   "source": [
    "i=0\n",
    "j=5\n",
    "while i < 5:\n",
    "    print(\"* | \"*5)\n",
    "    i += 1"
   ]
  },
  {
   "cell_type": "markdown",
   "id": "d0411509",
   "metadata": {},
   "source": [
    "\n",
    "### Assignment 8: break Statement\n",
    "\n",
    "Write a program that asks the user to input numbers until they input 0. The program should print the sum of all the input numbers.\n"
   ]
  },
  {
   "cell_type": "code",
   "execution_count": 39,
   "id": "aa7c10b2",
   "metadata": {},
   "outputs": [
    {
     "name": "stdout",
     "output_type": "stream",
     "text": [
      "The sum of all the input numbers is 20\n"
     ]
    }
   ],
   "source": [
    "# Initialize the sum to 0\n",
    "total = 0\n",
    "\n",
    "while True:\n",
    "    try:\n",
    "        # Get a number from the user\n",
    "        num = int(input(\"Enter a number (or 0 to stop): \"))\n",
    "\n",
    "        # If the user entered 0, break the loop\n",
    "        if num == 0:\n",
    "            break\n",
    "\n",
    "        # Add the number to the total\n",
    "        total += num\n",
    "    except ValueError:\n",
    "        print(\"Invalid input. Please enter a number.\")\n",
    "\n",
    "# Print the total\n",
    "print(\"The sum of all the input numbers is\", total)"
   ]
  },
  {
   "cell_type": "markdown",
   "id": "f2dcab7c",
   "metadata": {},
   "source": [
    "\n",
    "### Assignment 9: continue Statement\n",
    "\n",
    "Write a program that prints all the numbers from 1 to 10 except 5 using a for loop and continue statement.\n"
   ]
  },
  {
   "cell_type": "code",
   "execution_count": 1,
   "id": "4b213c76",
   "metadata": {},
   "outputs": [
    {
     "name": "stdout",
     "output_type": "stream",
     "text": [
      "1\n",
      "2\n",
      "3\n",
      "4\n",
      "6\n",
      "7\n",
      "8\n",
      "9\n",
      "10\n"
     ]
    }
   ],
   "source": [
    "# Use a for loop to iterate over the numbers from 1 to 10\n",
    "for i in range(1, 11):\n",
    "    # If the number is 5, skip it\n",
    "    if i == 5:\n",
    "        continue\n",
    "    # Print the number\n",
    "    print(i)"
   ]
  },
  {
   "cell_type": "markdown",
   "id": "c1a93729",
   "metadata": {},
   "source": [
    "\n",
    "### Assignment 10: pass Statement\n",
    "\n",
    "Write a program that defines an empty function using the pass statement.\n"
   ]
  },
  {
   "cell_type": "code",
   "execution_count": 2,
   "id": "039a5bb2",
   "metadata": {},
   "outputs": [],
   "source": [
    "def my_function():\n",
    "    pass"
   ]
  },
  {
   "cell_type": "markdown",
   "id": "eef5aad5",
   "metadata": {},
   "source": [
    "\n",
    "### Assignment 11: Combining Loops and Conditionals\n",
    "\n",
    "Write a program that asks the user to input a number and prints all the even numbers from 1 to that number using a for loop.\n"
   ]
  },
  {
   "cell_type": "code",
   "execution_count": 4,
   "id": "af73ebe4",
   "metadata": {},
   "outputs": [
    {
     "name": "stdout",
     "output_type": "stream",
     "text": [
      "1\n",
      "2\n",
      "3\n",
      "4\n"
     ]
    }
   ],
   "source": [
    "num = int(input(\"Enter a number: \"))\n",
    "for i in range (0, num):\n",
    "    print(i+1)"
   ]
  },
  {
   "cell_type": "markdown",
   "id": "b50a3c26",
   "metadata": {},
   "source": [
    "\n",
    "### Assignment 12: Factorial Calculation\n",
    "\n",
    "Write a program that calculates the factorial of a number input by the user using a while loop.\n"
   ]
  },
  {
   "cell_type": "code",
   "execution_count": 5,
   "id": "5d92bbef",
   "metadata": {},
   "outputs": [
    {
     "name": "stdout",
     "output_type": "stream",
     "text": [
      "Le factoriel de 6 est 720\n"
     ]
    }
   ],
   "source": [
    "num = int(input(\"Entrez un nombre: \"))\n",
    "fac = 1\n",
    "\n",
    "for i in range(1, num + 1):\n",
    "    fac *= i\n",
    "\n",
    "print(\"Le factoriel de\", num, \"est\", fac)"
   ]
  },
  {
   "cell_type": "markdown",
   "id": "df9014c5",
   "metadata": {},
   "source": [
    "\n",
    "### Assignment 13: Sum of Digits\n",
    "\n",
    "Write a program that calculates the sum of the digits of a number input by the user using a while loop.\n"
   ]
  },
  {
   "cell_type": "code",
   "execution_count": 8,
   "id": "b4b768e3",
   "metadata": {},
   "outputs": [
    {
     "name": "stdout",
     "output_type": "stream",
     "text": [
      "The sum of the digits is 1\n"
     ]
    }
   ],
   "source": [
    "try:\n",
    "    # Get a number from the user\n",
    "    num = int(input(\"Enter a number: \"))\n",
    "\n",
    "    # Initialize the sum to 0\n",
    "    sum_of_digits = 0\n",
    "\n",
    "    # Use a while loop to iterate over the digits of the number\n",
    "    while num > 0:\n",
    "        # Add the last digit of the number to the sum\n",
    "        sum_of_digits += num % 10\n",
    "        # Remove the last digit from the number\n",
    "        num //= 10\n",
    "\n",
    "    # Print the sum of the digits\n",
    "    print(\"The sum of the digits is\", sum_of_digits)\n",
    "except ValueError:\n",
    "    print(\"Invalid input. Please enter a number.\")"
   ]
  },
  {
   "cell_type": "markdown",
   "id": "223b3b53",
   "metadata": {},
   "source": [
    "\n",
    "### Assignment 14: Prime Number Check\n",
    "\n",
    "Write a program that checks if a number input by the user is a prime number using a for loop.\n"
   ]
  },
  {
   "cell_type": "code",
   "execution_count": 11,
   "id": "a62810c5",
   "metadata": {},
   "outputs": [
    {
     "name": "stdout",
     "output_type": "stream",
     "text": [
      "1 is not a prime number.\n"
     ]
    }
   ],
   "source": [
    "try:\n",
    "    # Get a number from the user\n",
    "    num = int(input(\"Enter a number: \"))\n",
    "\n",
    "    # Check if the number is less than 2\n",
    "    # (the smallest prime number is 2)\n",
    "    if num < 2:\n",
    "        print(num, \"is not a prime number.\")\n",
    "    else:\n",
    "        # Assume the number is prime until we find a divisor\n",
    "        is_prime = True\n",
    "\n",
    "        # Use a for loop to check for divisors of the number\n",
    "        for i in range(2, num):\n",
    "            if num % i == 0:\n",
    "                is_prime = False\n",
    "                break\n",
    "\n",
    "        # Print whether or not the number is prime\n",
    "        if is_prime:\n",
    "            print(num, \"is a prime number.\")\n",
    "        else:\n",
    "            print(num, \"is not a prime number.\")\n",
    "except ValueError:\n",
    "    print(\"Invalid input. Please enter a number.\")"
   ]
  },
  {
   "cell_type": "markdown",
   "id": "361e475b",
   "metadata": {},
   "source": [
    "\n",
    "### Assignment 15: Fibonacci Sequence\n",
    "\n",
    "Write a program that prints the first n Fibonacci numbers, where n is input by the user."
   ]
  },
  {
   "cell_type": "code",
   "execution_count": 12,
   "id": "b374401f",
   "metadata": {},
   "outputs": [
    {
     "name": "stdout",
     "output_type": "stream",
     "text": [
      "0\n",
      "1\n",
      "1\n",
      "2\n",
      "3\n",
      "5\n"
     ]
    }
   ],
   "source": [
    "try:\n",
    "    # Get the number of Fibonacci numbers to print from the user\n",
    "    n = int(input(\"Enter the number of Fibonacci numbers to print: \"))\n",
    "\n",
    "    # Initialize the first two Fibonacci numbers\n",
    "    a, b = 0, 1\n",
    "\n",
    "    # Use a for loop to print the first n Fibonacci numbers\n",
    "    for i in range(n):\n",
    "        # Print the current Fibonacci number\n",
    "        print(a)\n",
    "\n",
    "        # Update a and b to the next two Fibonacci numbers\n",
    "        a, b = b, a + b\n",
    "except ValueError:\n",
    "    print(\"Invalid input. Please enter a number.\")"
   ]
  },
  {
   "cell_type": "code",
   "execution_count": null,
   "id": "e6f0b34d",
   "metadata": {},
   "outputs": [],
   "source": []
  }
 ],
 "metadata": {
  "kernelspec": {
   "display_name": "Python 3",
   "language": "python",
   "name": "python3"
  },
  "language_info": {
   "codemirror_mode": {
    "name": "ipython",
    "version": 3
   },
   "file_extension": ".py",
   "mimetype": "text/x-python",
   "name": "python",
   "nbconvert_exporter": "python",
   "pygments_lexer": "ipython3",
   "version": "3.12.0"
  }
 },
 "nbformat": 4,
 "nbformat_minor": 5
}
